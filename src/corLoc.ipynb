{
 "cells": [
  {
   "cell_type": "code",
   "execution_count": 1,
   "metadata": {},
   "outputs": [],
   "source": [
    "import torch\n",
    "import numpy as np\n",
    "\n",
    "from datasets import VOCDectectionDataset\n",
    "from sklearn.metrics import average_precision_score\n",
    "from models import *\n",
    "from utils import *\n",
    "from config import *\n",
    "from tqdm.notebook import tqdm"
   ]
  },
  {
   "cell_type": "code",
   "execution_count": 2,
   "metadata": {},
   "outputs": [],
   "source": [
    "# propose_way = \"edge_box\"\n",
    "year='2007'\n",
    "pretrained='vgg16'\n",
    "model = Combined_VGG16()\n",
    "model.to(cfg.DEVICE)\n",
    "\n",
    "checkpoints = torch.load(cfg.PATH.PT_PATH + \"1S_norm_WholeModel_2007_vgg16_50.pt\")\n",
    "model.load_state_dict(checkpoints['whole_model_state_dict'])\n",
    "\n",
    "\n",
    "traindata = VOCDectectionDataset(\"~/data/\", year, 'trainval', use_corloc=True, small_box=False)\n",
    "traindata_loader = data.DataLoader(traindata, 1, shuffle=False, num_workers=4, pin_memory=True)\n"
   ]
  },
  {
   "cell_type": "code",
   "execution_count": 3,
   "metadata": {},
   "outputs": [
    {
     "data": {
      "application/vnd.jupyter.widget-view+json": {
       "model_id": "920001404d4b4986ae6fa576e67ebe2a",
       "version_major": 2,
       "version_minor": 0
      },
      "text/plain": [
       "HBox(children=(FloatProgress(value=0.0, description='Evaluation', max=5011.0, style=ProgressStyle(description_…"
      ]
     },
     "metadata": {},
     "output_type": "display_data"
    },
    {
     "name": "stdout",
     "output_type": "stream",
     "text": [
      "CorLoc is [0.88461538 0.76923077 0.43333333 0.47826087 0.28571429 0.94117647\n",
      " 0.86585366 0.51724138 0.37254902 0.72222222 0.56       0.675\n",
      " 0.51851852 0.95454545 0.19680851 0.52631579 0.72727273 0.5\n",
      " 0.71428571 0.39130435]\n",
      "CorLoc is [0.82       0.71698113 0.54411765 0.42105263 0.40425532 0.75\n",
      " 0.89655172 0.53846154 0.44210526 0.74193548 0.41304348 0.67058824\n",
      " 0.5        0.94       0.205      0.44736842 0.61904762 0.53191489\n",
      " 0.65909091 0.2962963 ]\n",
      "CorLoc is [0.79104478 0.71052632 0.55339806 0.42857143 0.40277778 0.74468085\n",
      " 0.89473684 0.53061224 0.4887218  0.78       0.44615385 0.6484375\n",
      " 0.47560976 0.94666667 0.19763514 0.41269841 0.68571429 0.57575758\n",
      " 0.63888889 0.32876712]\n",
      "CorLoc is [0.80232558 0.7        0.56849315 0.4109589  0.39795918 0.72727273\n",
      " 0.875      0.53076923 0.45454545 0.77192982 0.45121951 0.6091954\n",
      " 0.53982301 0.92783505 0.17336683 0.39175258 0.70454545 0.57291667\n",
      " 0.64705882 0.3960396 ]\n",
      "CorLoc is [0.80530973 0.73170732 0.57303371 0.47777778 0.42063492 0.71428571\n",
      " 0.87463557 0.5508982  0.44394619 0.75714286 0.46464646 0.60273973\n",
      " 0.57241379 0.92913386 0.17131474 0.37096774 0.69230769 0.56637168\n",
      " 0.62992126 0.4488189 ]\n",
      "CorLoc is [0.8030303  0.73026316 0.58536585 0.42241379 0.39726027 0.7244898\n",
      " 0.87901235 0.55940594 0.44237918 0.75903614 0.44262295 0.59160305\n",
      " 0.58235294 0.90849673 0.16693944 0.39864865 0.72580645 0.57037037\n",
      " 0.6474359  0.43537415]\n",
      "CorLoc is [0.83018868 0.75287356 0.61538462 0.43181818 0.38857143 0.72072072\n",
      " 0.87421384 0.55319149 0.42628205 0.73737374 0.46853147 0.58745875\n",
      " 0.60199005 0.92045455 0.16409537 0.4        0.74285714 0.56687898\n",
      " 0.63387978 0.41714286]\n",
      "CorLoc is [0.84153005 0.73       0.60674157 0.42666667 0.40394089 0.74264706\n",
      " 0.87430684 0.58302583 0.4301676  0.73394495 0.46060606 0.59705882\n",
      " 0.60087719 0.91326531 0.17130489 0.40206186 0.74025974 0.56353591\n",
      " 0.6097561  0.43137255]\n",
      "CorLoc is [0.82938389 0.72477064 0.60983607 0.4        0.39726027 0.75925926\n",
      " 0.87122417 0.59       0.4469697  0.736      0.45652174 0.59114583\n",
      " 0.61389961 0.89302326 0.17203108 0.4        0.75       0.54589372\n",
      " 0.61802575 0.42105263]\n",
      "CorLoc is [0.81932773 0.73140496 0.59090909 0.40223464 0.38934426 0.77956989\n",
      " 0.86938202 0.57566766 0.43918919 0.73758865 0.455      0.59047619\n",
      " 0.6013986  0.90163934 0.17182817 0.39591837 0.74736842 0.54824561\n",
      " 0.63706564 0.4296875 ]\n",
      "\n",
      "CorLoc is [0.81932773 0.73251029 0.59090909 0.40883978 0.38934426 0.77956989\n",
      " 0.86956522 0.57566766 0.43820225 0.73758865 0.455      0.59144893\n",
      " 0.60278746 0.90204082 0.17131474 0.39591837 0.75       0.54585153\n",
      " 0.63984674 0.4296875 ]\n",
      "mean CorLoc is 0.5912710450321519\n"
     ]
    }
   ],
   "source": [
    "positives = np.array([0 for _ in range(20)]) # \n",
    "hits = np.array([0 for _ in range(20)]) # \n",
    "n = 0\n",
    "\n",
    "with torch.no_grad():\n",
    "    model.eval();\n",
    "    for n_imgs, gt, n_regions, region in tqdm(traindata_loader, \"Evaluation\"):\n",
    "        n += 1\n",
    "        region = region.to(cfg.DEVICE)\n",
    "        avg_scores = torch.zeros((len(region[0]), 20), dtype=torch.float32)\n",
    "        scales = len(cfg.DATA.SCALES)\n",
    "        k = cfg.K\n",
    "        for i in range(2 * scales):\n",
    "            per_img = n_imgs[i].to(cfg.DEVICE)\n",
    "            per_region = n_regions[i].to(cfg.DEVICE)\n",
    "            ref_scores1, ref_scores2, ref_scores3, proposal_scores = model(per_img, per_region)\n",
    "            avg_scores += (ref_scores1 + ref_scores2 + ref_scores3)[:, :-1].detach().cpu() / k\n",
    "        avg_scores /= 2 * scales\n",
    "        \n",
    "        gt = gt[0]\n",
    "        gt_box = gt[:, :4]\n",
    "        gt_box = gt_box.to(cfg.DEVICE)\n",
    "    \n",
    "    \n",
    "        target = [0 for _ in range(len(VOC_CLASSES))]\n",
    "        gt_target = gt[:, -1]\n",
    "        for t in gt_target:\n",
    "            target[int(t)] = 1.0\n",
    "        gt_target = torch.Tensor(target).to(cfg.DEVICE)\n",
    "        \n",
    "        region = region[0].cpu()\n",
    "        \n",
    "        for c in range(20):\n",
    "            if gt_target[c] == 0.0:\n",
    "                continue\n",
    "            else:\n",
    "                positives[c] += 1\n",
    "                cls_region = region\n",
    "                cls_scores = avg_scores[:, c]\n",
    "                \n",
    "#                 nms_filter = nms(cls_region, cls_scores, 0.3)\n",
    "#                 cls_region = cls_region[nms_filter]\n",
    "#                 cls_scores = cls_scores[nms_filter]\n",
    "                \n",
    "                most_confident_one = torch.argmax(cls_scores)\n",
    "                most_confident_region = region[most_confident_one:most_confident_one+1].to(cfg.DEVICE)\n",
    "#                 most_confident_region = region[nms_filter][most_confident_one:most_confident_one+1]\n",
    "                IOU = one2allbox_iou(most_confident_region, gt_box)\n",
    "                if (IOU >= 0.5).sum() >= 1.0:\n",
    "                    hits[c] += 1\n",
    "#         if n == 3:\n",
    "#             break\n",
    "        if n % 500 == 0:\n",
    "            print(f\"CorLoc is {hits/positives}\")\n",
    "    corloc = hits/positives\n",
    "    print(f\"CorLoc is {corloc}\")\n",
    "    print(f\"mean CorLoc is {(corloc).sum()/20}\")"
   ]
  },
  {
   "cell_type": "markdown",
   "metadata": {},
   "source": [
    "CorLoc is [0.81932773 0.73251029 0.59090909 0.40883978 0.38934426 0.77956989\n",
    " 0.86956522 0.57566766 0.43820225 0.73758865 0.455      0.59144893\n",
    " 0.60278746 0.90204082 0.17131474 0.39591837 0.75       0.54585153\n",
    " 0.63984674 0.4296875 ]\n",
    " \n",
    "mean CorLoc is 0.5912710450321519"
   ]
  },
  {
   "cell_type": "code",
   "execution_count": null,
   "metadata": {},
   "outputs": [],
   "source": []
  }
 ],
 "metadata": {
  "kernelspec": {
   "display_name": "sjjPy3",
   "language": "python",
   "name": "sjjpy3"
  },
  "language_info": {
   "codemirror_mode": {
    "name": "ipython",
    "version": 3
   },
   "file_extension": ".py",
   "mimetype": "text/x-python",
   "name": "python",
   "nbconvert_exporter": "python",
   "pygments_lexer": "ipython3",
   "version": "3.8.3"
  }
 },
 "nbformat": 4,
 "nbformat_minor": 4
}
