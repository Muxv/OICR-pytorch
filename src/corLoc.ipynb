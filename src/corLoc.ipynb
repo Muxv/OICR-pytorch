{
 "cells": [
  {
   "cell_type": "code",
   "execution_count": 1,
   "metadata": {},
   "outputs": [],
   "source": [
    "import torch\n",
    "import numpy as np\n",
    "\n",
    "from datasets import VOCDectectionDataset\n",
    "from sklearn.metrics import average_precision_score\n",
    "from models import *\n",
    "from utils import *\n",
    "from config import *\n",
    "from tqdm.notebook import tqdm"
   ]
  },
  {
   "cell_type": "code",
   "execution_count": 2,
   "metadata": {},
   "outputs": [],
   "source": [
    "# propose_way = \"edge_box\"\n",
    "year='2007'\n",
    "pretrained='vgg16'\n",
    "if pretrained == 'alexnet':\n",
    "    model = Combined_Alexnet()\n",
    "elif pretrained == 'vgg16':\n",
    "    model = Combined_VGG16()\n",
    "model.to(cfg.DEVICE)\n",
    "\n",
    "checkpoints = torch.load(cfg.PATH.PT_PATH + \"BestModel_2007_vgg16_26.pt\")\n",
    "model.load_state_dict(checkpoints['whole_model_state_dict'])\n",
    "\n",
    "\n",
    "traindata = VOCDectectionDataset(\"~/data/\", year, 'trainval', use_corloc=True)\n",
    "traindata_loader = data.DataLoader(traindata, 1, shuffle=False)\n"
   ]
  },
  {
   "cell_type": "code",
   "execution_count": null,
   "metadata": {},
   "outputs": [
    {
     "data": {
      "application/vnd.jupyter.widget-view+json": {
       "model_id": "60e5b643625a430d9e59c3de6f028395",
       "version_major": 2,
       "version_minor": 0
      },
      "text/plain": [
       "HBox(children=(FloatProgress(value=0.0, description='Evaluation', max=5011.0, style=ProgressStyle(description_…"
      ]
     },
     "metadata": {},
     "output_type": "display_data"
    },
    {
     "name": "stdout",
     "output_type": "stream",
     "text": [
      "CorLoc is [0.88461538 0.84615385 0.56666667 0.34782609 0.23809524 0.94117647\n",
      " 0.87804878 0.4137931  0.31372549 0.61111111 0.4        0.6\n",
      " 0.48148148 0.90909091 0.2287234  0.52631579 0.81818182 0.45454545\n",
      " 0.53571429 0.39130435]\n",
      "CorLoc is [0.86       0.77358491 0.60294118 0.39473684 0.42553191 0.78571429\n",
      " 0.88275862 0.41538462 0.29473684 0.61290323 0.36956522 0.62352941\n",
      " 0.46296296 0.9        0.21       0.34210526 0.66666667 0.55319149\n",
      " 0.5        0.31481481]\n",
      "CorLoc is [0.8358209  0.80263158 0.62135922 0.35714286 0.47222222 0.76595745\n",
      " 0.8708134  0.39795918 0.30075188 0.7        0.38461538 0.5625\n",
      " 0.45121951 0.89333333 0.2027027  0.38095238 0.65714286 0.57575758\n",
      " 0.52777778 0.32876712]\n",
      "CorLoc is [0.84883721 0.79       0.63013699 0.35616438 0.43877551 0.74242424\n",
      " 0.86397059 0.43076923 0.30681818 0.70175439 0.41463415 0.51724138\n",
      " 0.45132743 0.88659794 0.1959799  0.34020619 0.59090909 0.5625\n",
      " 0.57843137 0.30693069]\n",
      "CorLoc is [0.84955752 0.80487805 0.60674157 0.36666667 0.42063492 0.72619048\n",
      " 0.85714286 0.43712575 0.2735426  0.65714286 0.42424242 0.51141553\n",
      " 0.46206897 0.85826772 0.19621514 0.35483871 0.59615385 0.55752212\n",
      " 0.58267717 0.33070866]\n",
      "CorLoc is [0.83333333 0.78947368 0.6097561  0.31896552 0.40410959 0.74489796\n",
      " 0.85925926 0.44059406 0.28624535 0.63855422 0.40163934 0.51145038\n",
      " 0.48235294 0.8627451  0.19639935 0.35135135 0.58064516 0.57037037\n",
      " 0.60897436 0.33333333]\n",
      "CorLoc is [0.8427673  0.8045977  0.5982906  0.31818182 0.4        0.73873874\n",
      " 0.85953878 0.42978723 0.28846154 0.62626263 0.41258741 0.52475248\n",
      " 0.45771144 0.875      0.19635344 0.37058824 0.58571429 0.56687898\n",
      " 0.61748634 0.34857143]\n",
      "CorLoc is [0.8579235  0.805      0.58426966 0.32       0.408867   0.72058824\n",
      " 0.85582255 0.44280443 0.27932961 0.6146789  0.41818182 0.52058824\n",
      " 0.45175439 0.87755102 0.19975263 0.37628866 0.58441558 0.57458564\n",
      " 0.6        0.37254902]\n"
     ]
    }
   ],
   "source": [
    "positives = np.array([0 for _ in range(20)]) # \n",
    "hits = np.array([0 for _ in range(20)]) # \n",
    "n = 0\n",
    "\n",
    "with torch.no_grad():\n",
    "    model.eval();\n",
    "    for n_imgs, gt, n_regions, region in tqdm(traindata_loader, \"Evaluation\"):\n",
    "        n += 1\n",
    "        region = region.to(cfg.DEVICE)\n",
    "        avg_scores = torch.zeros((len(region[0]), 20), dtype=torch.float32)\n",
    "        scales = len(cfg.DATA.SCALES)\n",
    "        k = cfg.K\n",
    "        for i in range(2 * scales):\n",
    "            per_img = n_imgs[i].to(cfg.DEVICE)\n",
    "            per_region = n_regions[i].to(cfg.DEVICE)\n",
    "            ref_scores1, ref_scores2, ref_scores3, proposal_scores = model(per_img, per_region)\n",
    "            avg_scores += (ref_scores1 + ref_scores2 + ref_scores3)[:, :-1].detach().cpu() / k\n",
    "        avg_scores /= 2 * scales\n",
    "        \n",
    "        gt = gt[0]\n",
    "        gt_box = gt[:, :4]\n",
    "        gt_box = gt_box.to(cfg.DEVICE)\n",
    "    \n",
    "    \n",
    "        target = [0 for _ in range(len(VOC_CLASSES))]\n",
    "        gt_target = gt[:, -1]\n",
    "        for t in gt_target:\n",
    "            target[int(t)] = 1.0\n",
    "        gt_target = torch.Tensor(target).to(cfg.DEVICE)\n",
    "        \n",
    "        region = region[0].cpu()\n",
    "        \n",
    "        for c in range(20):\n",
    "            if gt_target[c] == 0.0:\n",
    "                continue\n",
    "            else:\n",
    "                positives[c] += 1\n",
    "                cls_region = region\n",
    "                cls_scores = avg_scores[:, c]\n",
    "                \n",
    "#                 nms_filter = nms(cls_region, cls_scores, 0.3)\n",
    "#                 cls_region = cls_region[nms_filter]\n",
    "#                 cls_scores = cls_scores[nms_filter]\n",
    "                \n",
    "                most_confident_one = torch.argmax(cls_scores)\n",
    "                most_confident_region = region[most_confident_one:most_confident_one+1].to(cfg.DEVICE)\n",
    "#                 most_confident_region = region[nms_filter][most_confident_one:most_confident_one+1]\n",
    "                IOU = one2allbox_iou(most_confident_region, gt_box)\n",
    "                if (IOU >= 0.5).sum() >= 1.0:\n",
    "                    hits[c] += 1\n",
    "#         if n == 3:\n",
    "#             break\n",
    "        if n % 500 == 0:\n",
    "            print(f\"CorLoc is {hits/positives}\")\n",
    "    corloc = hits/positives\n",
    "    print(f\"CorLoc is {corloc}\")\n",
    "    print(f\"mean CorLoc is {(corloc).sum()/20}\")"
   ]
  }
 ],
 "metadata": {
  "kernelspec": {
   "display_name": "sjjPy3",
   "language": "python",
   "name": "sjjpy3"
  },
  "language_info": {
   "codemirror_mode": {
    "name": "ipython",
    "version": 3
   },
   "file_extension": ".py",
   "mimetype": "text/x-python",
   "name": "python",
   "nbconvert_exporter": "python",
   "pygments_lexer": "ipython3",
   "version": "3.8.3"
  }
 },
 "nbformat": 4,
 "nbformat_minor": 4
}
