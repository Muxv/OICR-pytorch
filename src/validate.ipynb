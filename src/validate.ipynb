{
 "cells": [
  {
   "cell_type": "code",
   "execution_count": 1,
   "metadata": {},
   "outputs": [],
   "source": [
    "import torch\n",
    "import torch.nn as nn\n",
    "import torch.nn.functional as F\n",
    "import torch.utils.data as data\n",
    "\n",
    "from tqdm.notebook import tqdm\n",
    "from chainercv.evaluations import eval_detection_voc\n",
    "from models import MIDN_Alexnet, MIDN_VGG16, OICR\n",
    "from config import cfg\n",
    "from datasets import VOCDectectionDataset\n",
    "from torchvision.ops import roi_pool, nms\n",
    "from sklearn.metrics import average_precision_score\n",
    "from utils import *"
   ]
  },
  {
   "cell_type": "code",
   "execution_count": 2,
   "metadata": {},
   "outputs": [
    {
     "ename": "KeyError",
     "evalue": "'midn_model_state_dict'",
     "output_type": "error",
     "traceback": [
      "\u001b[0;31m---------------------------------------------------------------------------\u001b[0m",
      "\u001b[0;31mKeyError\u001b[0m                                  Traceback (most recent call last)",
      "\u001b[0;32m<ipython-input-2-e56de870914f>\u001b[0m in \u001b[0;36m<module>\u001b[0;34m\u001b[0m\n\u001b[1;32m     12\u001b[0m \u001b[0;34m\u001b[0m\u001b[0m\n\u001b[1;32m     13\u001b[0m \u001b[0mmidn_checkpoints\u001b[0m \u001b[0;34m=\u001b[0m \u001b[0mtorch\u001b[0m\u001b[0;34m.\u001b[0m\u001b[0mload\u001b[0m\u001b[0;34m(\u001b[0m\u001b[0mcfg\u001b[0m\u001b[0;34m.\u001b[0m\u001b[0mPATH\u001b[0m\u001b[0;34m.\u001b[0m\u001b[0mPT_PATH\u001b[0m \u001b[0;34m+\u001b[0m \u001b[0;34m\"[F]Model_2007_alexnet.pt\"\u001b[0m\u001b[0;34m)\u001b[0m\u001b[0;34m\u001b[0m\u001b[0;34m\u001b[0m\u001b[0m\n\u001b[0;32m---> 14\u001b[0;31m \u001b[0mmidn\u001b[0m\u001b[0;34m.\u001b[0m\u001b[0mload_state_dict\u001b[0m\u001b[0;34m(\u001b[0m\u001b[0mmidn_checkpoints\u001b[0m\u001b[0;34m[\u001b[0m\u001b[0;34m'midn_model_state_dict'\u001b[0m\u001b[0;34m]\u001b[0m\u001b[0;34m)\u001b[0m\u001b[0;34m\u001b[0m\u001b[0;34m\u001b[0m\u001b[0m\n\u001b[0m\u001b[1;32m     15\u001b[0m \u001b[0;31m# oicr.load_state_dict(midn_checkpoints['oicr_model_state_dict'])\u001b[0m\u001b[0;34m\u001b[0m\u001b[0;34m\u001b[0m\u001b[0;34m\u001b[0m\u001b[0m\n\u001b[1;32m     16\u001b[0m \u001b[0;34m\u001b[0m\u001b[0m\n",
      "\u001b[0;31mKeyError\u001b[0m: 'midn_model_state_dict'"
     ]
    }
   ],
   "source": [
    "year='2007'\n",
    "pretrained='alexnet'\n",
    "oicr = None\n",
    "if pretrained == 'alexnet':\n",
    "    midn = MIDN_Alexnet()\n",
    "elif pretrained == 'vgg16':\n",
    "    midn = MIDN_VGG16()\n",
    "midn.to(cfg.DEVICE)\n",
    "\n",
    "oicr = OICR(cfg.K)\n",
    "oicr.to(cfg.DEVICE)\n",
    "\n",
    "midn_checkpoints = torch.load(cfg.PATH.PT_PATH + \"[F]Model_2007_alexnet.pt\")\n",
    "midn.load_state_dict(midn_checkpoints['midn_model_state_dict'])\n",
    "# oicr.load_state_dict(midn_checkpoints['oicr_model_state_dict'])\n",
    "\n",
    "\n",
    "testdata = VOCDectectionDataset(\"~/data/\", year, 'test')\n",
    "test_loader = data.DataLoader(testdata, cfg.TRAIN.BATCH_SIZE, shuffle=False)\n",
    "\n",
    "log_file = cfg.PATH.LOG_PATH + f\"Validate_{pretrained}\" + \".txt\"\n",
    "write_log(log_file, f\"model_name: OICR_{pretrained}\")\n",
    "\n",
    "\n",
    "total_pred_boxes = []\n",
    "total_pred_labels = []\n",
    "total_pred_scores = []\n",
    "total_true_boxes = []\n",
    "total_true_labels = []\n"
   ]
  },
  {
   "cell_type": "code",
   "execution_count": 4,
   "metadata": {},
   "outputs": [
    {
     "data": {
      "application/vnd.jupyter.widget-view+json": {
       "model_id": "0786457731c24939bfa856d103db8aa3",
       "version_major": 2,
       "version_minor": 0
      },
      "text/plain": [
       "HBox(children=(FloatProgress(value=0.0, description='Evaluation', max=4952.0, style=ProgressStyle(description_…"
      ]
     },
     "metadata": {},
     "output_type": "display_data"
    },
    {
     "name": "stdout",
     "output_type": "stream",
     "text": [
      "\n",
      "Avg AP: [0.05681688 0.12065357 0.05569143 0.02008995 0.0305198  0.16428032\n",
      " 0.1711747  0.23079644 0.003364   0.02530912 0.02825954 0.17148571\n",
      " 0.10341195 0.147219   0.04436524 0.04192029 0.03184011 0.11029824\n",
      " 0.19692285 0.03507965]\n",
      "Avg mAP: 0.08947493939474795\n"
     ]
    }
   ],
   "source": [
    "with torch.no_grad():\n",
    "    midn.eval()\n",
    "    oicr.eval()\n",
    "    for n_imgs, gt, n_regions, region in tqdm(test_loader, \"Evaluation\"):\n",
    "        region = region.to(cfg.DEVICE)\n",
    "#         avg_scores = torch.zeros((len(region[0]), 20), dtype=torch.float32)\n",
    "#         for i in range(5):\n",
    "#             per_img = n_imgs[i].to(cfg.DEVICE)\n",
    "#             per_region = n_regions[i].to(cfg.DEVICE)\n",
    "#             fc7, combined_scores = midn(per_img, per_region)\n",
    "#             refine_scores = oicr(fc7)\n",
    "#             for k in range(cfg.K):\n",
    "#                 avg_scores += refine_scores[k][:, :20].cpu()\n",
    "#             avg_scores += combined_scores.cpu()\n",
    "#         avg_scores /= (5 * 4)\n",
    "        \n",
    "        savg_scores = torch.zeros((len(region[0]), 20), dtype=torch.float32)\n",
    "        for i in range(5):\n",
    "            per_img = n_imgs[i].to(cfg.DEVICE)\n",
    "            per_region = n_regions[i].to(cfg.DEVICE)\n",
    "            fc7, combined_scores = midn(per_img, per_region)\n",
    "            for k in range(cfg.K):\n",
    "                avg_scores += avg_scores.cpu()\n",
    "        avg_scores /= (5 * 1)\n",
    "        \n",
    "    \n",
    "        gt = gt.numpy()[0]\n",
    "        gt_boxex = gt[:, :4]\n",
    "        gt_labels = gt[:, -1]\n",
    "    \n",
    "        gt_labels_onehot = np.zeros(20)\n",
    "        for label in gt_labels:\n",
    "            gt_labels_onehot[int(label)] = 1\n",
    "\n",
    "        per_pred_boxes = []\n",
    "        per_pred_scores = []\n",
    "        per_pred_labels = []\n",
    "        \n",
    "        region = region[0].cpu()\n",
    "        \n",
    "        for i in range(20):\n",
    "            cls_scores = avg_scores[:, i]\n",
    "            cls_region = region\n",
    "\n",
    "            nms_filter = nms(cls_region, cls_scores, 0.3)\n",
    "            per_pred_boxes.append(cls_region[nms_filter].numpy())\n",
    "            per_pred_scores.append(cls_scores[nms_filter].numpy())\n",
    "            per_pred_labels.append(np.full(len(nms_filter), i, dtype=np.int32))\n",
    "            \n",
    "        total_pred_boxes.append(np.concatenate(per_pred_boxes, axis=0))\n",
    "        total_pred_scores.append(np.concatenate(per_pred_scores, axis=0))\n",
    "        total_pred_labels.append(np.concatenate(per_pred_labels, axis=0))\n",
    "        total_true_boxes.append(gt_boxex)\n",
    "        total_true_labels.append(gt_labels)\n",
    "        \n",
    "    result = eval_detection_voc(\n",
    "        total_pred_boxes,\n",
    "        total_pred_labels,\n",
    "        total_pred_scores,\n",
    "        total_true_boxes,\n",
    "        total_true_labels,\n",
    "        iou_thresh=0.5,\n",
    "        use_07_metric=True,\n",
    "    )\n",
    "    print(f\"Avg AP: {result['ap']}\")\n",
    "    print(f\"Avg mAP: {result['map']}\")\n",
    "#         write_log(log_file, f\"Avg AP: {result['ap']}\")\n",
    "#         write_log(log_file, f\"Avg mAP: {result['map']}\")"
   ]
  },
  {
   "cell_type": "markdown",
   "metadata": {},
   "source": [
    "\n",
    "Avg AP: [0.0380435  0.09586847 0.02967028 0.01421967 0.02488741 0.12029387\n",
    " 0.12345616 0.14256291 0.00230058 0.09248682 0.09352449 0.11741401\n",
    " 0.10741478 0.08556007 0.0268022  0.09133743 0.01528107 0.05298027\n",
    " 0.13549627 0.03642921]\n",
    " \n",
    "Avg mAP: 0.07230147397022946"
   ]
  },
  {
   "cell_type": "markdown",
   "metadata": {},
   "source": [
    "Avg AP: [0.06553017 0.11218434 0.04370746 0.01982238 0.0250097  0.1920574\n",
    " 0.184809   0.21933456 0.00361981 0.09866133 0.1002228  0.16470673\n",
    " 0.13001323 0.14395161 0.04144958 0.09434894 0.02223967 0.06508374\n",
    " 0.20686167 0.04100427]\n",
    "\n",
    "Avg mAP: 0.09873091926663828"
   ]
  },
  {
   "cell_type": "code",
   "execution_count": null,
   "metadata": {},
   "outputs": [],
   "source": []
  }
 ],
 "metadata": {
  "kernelspec": {
   "display_name": "sjjPy3",
   "language": "python",
   "name": "sjjpy3"
  },
  "language_info": {
   "codemirror_mode": {
    "name": "ipython",
    "version": 3
   },
   "file_extension": ".py",
   "mimetype": "text/x-python",
   "name": "python",
   "nbconvert_exporter": "python",
   "pygments_lexer": "ipython3",
   "version": "3.8.3"
  }
 },
 "nbformat": 4,
 "nbformat_minor": 4
}
