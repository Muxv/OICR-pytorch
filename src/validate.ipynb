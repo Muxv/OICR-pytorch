{
 "cells": [
  {
   "cell_type": "code",
   "execution_count": 1,
   "metadata": {},
   "outputs": [],
   "source": [
    "import torch\n",
    "import torch.nn as nn\n",
    "import torch.nn.functional as F\n",
    "import torch.utils.data as data\n",
    "\n",
    "from tqdm.notebook import tqdm\n",
    "from chainercv.evaluations import eval_detection_voc\n",
    "from models import *\n",
    "from config import cfg\n",
    "from datasets import VOCDectectionDataset\n",
    "from torchvision.ops import roi_pool, nms\n",
    "from sklearn.metrics import average_precision_score\n",
    "from utils import *"
   ]
  },
  {
   "cell_type": "code",
   "execution_count": 4,
   "metadata": {},
   "outputs": [],
   "source": [
    "year='2007'\n",
    "pretrained='alexnet'\n",
    "if pretrained == 'alexnet':\n",
    "    model = Combined_Alexnet()\n",
    "elif pretrained == 'vgg16':\n",
    "    model = Combined_VGG16()\n",
    "model.to(cfg.DEVICE)\n",
    "\n",
    "checkpoints = torch.load(cfg.PATH.PT_PATH + \"OK_WholeModel_2007_alexnet_40_.pt\")\n",
    "model.load_state_dict(checkpoints['whole_model_state_dict'])\n",
    "\n",
    "\n",
    "testdata = VOCDectectionDataset(\"~/data/\", year, 'test')\n",
    "test_loader = data.DataLoader(testdata, 1, shuffle=False)\n",
    "\n",
    "log_file = cfg.PATH.LOG_PATH + f\"Validate_{pretrained}\" + \".txt\"\n",
    "write_log(log_file, f\"model_name: OICR_{pretrained}\")\n",
    "\n",
    "y_pred = []\n",
    "y_true = []\n",
    "\n",
    "total_pred_boxes = []\n",
    "total_pred_labels = []\n",
    "total_pred_scores = []\n",
    "total_true_boxes = []\n",
    "total_true_labels = []\n"
   ]
  },
  {
   "cell_type": "code",
   "execution_count": 5,
   "metadata": {},
   "outputs": [
    {
     "data": {
      "application/vnd.jupyter.widget-view+json": {
       "model_id": "c15a8d2ad32647e1a960eac132df6473",
       "version_major": 2,
       "version_minor": 0
      },
      "text/plain": [
       "HBox(children=(FloatProgress(value=0.0, description='Evaluation', max=4952.0, style=ProgressStyle(description_…"
      ]
     },
     "metadata": {},
     "output_type": "display_data"
    },
    {
     "name": "stdout",
     "output_type": "stream",
     "text": [
      "\n",
      "Avg AP: [0.04996746 0.12549802 0.04110544 0.03914947 0.00034629 0.17533075\n",
      " 0.10073885 0.15085075 0.00435763 0.03197182 0.002767   0.0649913\n",
      " 0.00803389 0.14943469 0.03472256 0.04305286 0.01599128 0.05259232\n",
      " 0.1898722  0.05069405]\n",
      "Avg mAP: 0.06657343075574837\n",
      "Testset classify AP is [0.5439304002101464, 0.3523727417489, 0.3281571936374155, 0.22592611044707314, 0.05656811429318637, 0.37828380290931113, 0.7216212807123739, 0.43806435132036814, 0.158380143505157, 0.05977517274869668, 0.08961779067309253, 0.37888591590240067, 0.05119689906636412, 0.2197437526478686, 0.7932922500104936, 0.30585290069314974, 0.20082542240744827, 0.19125449687520113, 0.584040426302915, 0.48333703837941167]\n",
      "Testset classify mAP is 0.3280563102245487\n"
     ]
    }
   ],
   "source": [
    "with torch.no_grad():\n",
    "    model.eval()\n",
    "    n = len(cfg.DATA.SCALES)\n",
    "    for n_imgs, gt, n_regions, region in tqdm(test_loader, \"Evaluation\"):\n",
    "#         print(region.shape)\n",
    "        region = region.to(cfg.DEVICE)\n",
    "        avg_scores = torch.zeros((len(region[0]), 20), dtype=torch.float32)\n",
    "        \n",
    "#         avg_scores = torch.zeros((len(region[0]), 20), dtype=torch.float32)\n",
    "        scales = len(cfg.DATA.SCALES)\n",
    "        k = cfg.K\n",
    "        for i in range(scales):\n",
    "            per_img = n_imgs[i].to(cfg.DEVICE)\n",
    "            per_region = n_regions[i].to(cfg.DEVICE)\n",
    "            refine_scores, proposal_scores = model(per_img, per_region)\n",
    "            avg_scores += sum(refine_scores)[:, :20].detach().cpu() / k\n",
    "#             avg_scores += proposal_scores.cpu()\n",
    "        avg_scores /= scales\n",
    "        \n",
    "    \n",
    "        gt = gt.numpy()[0]\n",
    "        gt_boxex = gt[:, :4]\n",
    "        gt_labels = gt[:, -1]\n",
    "    \n",
    "        gt_labels_onehot = np.zeros(20)\n",
    "        for label in gt_labels:\n",
    "            gt_labels_onehot[int(label)] = 1\n",
    "        y_pred.append(avg_scores.sum(0).detach().cpu().numpy().tolist())\n",
    "        y_true.append(gt_labels_onehot.tolist())\n",
    "\n",
    "        per_pred_boxes = []\n",
    "        per_pred_scores = []\n",
    "        per_pred_labels = []\n",
    "        \n",
    "        region = region[0].cpu()\n",
    "        \n",
    "        for i in range(20):\n",
    "            cls_scores = avg_scores[:, i]\n",
    "            cls_region = region\n",
    "            \n",
    "#             score_filter = cls_scores > 1e-6\n",
    "#             cls_scores = cls_scores[score_filter]\n",
    "#             cls_region = cls_region[score_filter]\n",
    "            \n",
    "#             if cls_scores.numel() == 0 or cls_region.numel() == 0:\n",
    "#                 continue\n",
    "\n",
    "            nms_filter = nms(cls_region, cls_scores, 0.3)\n",
    "            per_pred_boxes.append(cls_region[nms_filter].numpy())\n",
    "            per_pred_scores.append(cls_scores[nms_filter].numpy())\n",
    "            per_pred_labels.append(np.full(len(nms_filter), i, dtype=np.int32))\n",
    "            \n",
    "        total_pred_boxes.append(np.concatenate(per_pred_boxes, axis=0))\n",
    "        total_pred_scores.append(np.concatenate(per_pred_scores, axis=0))\n",
    "        total_pred_labels.append(np.concatenate(per_pred_labels, axis=0))\n",
    "        total_true_boxes.append(gt_boxex)\n",
    "        total_true_labels.append(gt_labels)\n",
    "        \n",
    "    result = eval_detection_voc(\n",
    "        total_pred_boxes,\n",
    "        total_pred_labels,\n",
    "        total_pred_scores,\n",
    "        total_true_boxes,\n",
    "        total_true_labels,\n",
    "        iou_thresh=0.5,\n",
    "        use_07_metric=True,\n",
    "    )\n",
    "    print(f\"Avg AP: {result['ap']}\")\n",
    "    print(f\"Avg mAP: {result['map']}\")\n",
    "#         write_log(log_file, f\"Avg AP: {result['ap']}\")\n",
    "#         write_log(log_file, f\"Avg mAP: {result['map']}\")\n",
    "    cls_ap = []\n",
    "    y_pred = np.array(y_pred)\n",
    "    y_true = np.array(y_true)\n",
    "    for i in range(20):\n",
    "        cls_ap.append(average_precision_score(y_true[:,i], y_pred[:,i]))\n",
    "    print(f\"Testset classify AP is {str(cls_ap)}\")\n",
    "    print(f\"Testset classify mAP is {str(sum(cls_ap)/20)}\")"
   ]
  },
  {
   "cell_type": "markdown",
   "metadata": {},
   "source": [
    "Avg AP: [0.04996746 0.12549802 0.04110544 0.03914947 0.00034629 0.17533075\n",
    " 0.10073885 0.15085075 0.00435763 0.03197182 0.002767   0.0649913\n",
    " 0.00803389 0.14943469 0.03472256 0.04305286 0.01599128 0.05259232\n",
    " 0.1898722  0.05069405]\n",
    " \n",
    "Avg mAP: 0.06657343075574837\n",
    "\n",
    "Testset classify AP is [0.5439304002101464, 0.3523727417489, 0.3281571936374155, 0.22592611044707314, 0.05656811429318637, 0.37828380290931113, 0.7216212807123739, 0.43806435132036814, 0.158380143505157, 0.05977517274869668, 0.08961779067309253, 0.37888591590240067, 0.05119689906636412, 0.2197437526478686, 0.7932922500104936, 0.30585290069314974, 0.20082542240744827, 0.19125449687520113, 0.584040426302915, 0.48333703837941167]\n",
    "\n",
    "Testset classify mAP is 0.3280563102245487\n",
    "\n",
    "\n",
    "alexnet \n",
    "\n",
    "* 40 epoch\n",
    "    * 表现为 欠训练\n",
    "    * 0 ~ 20 -> 1e-4\n",
    "    * 20 ~ 40 -> 1e-5\n",
    "    * 40 ~ 50 -> 1e-4\n",
    "    * 无 gn\n",
    "    * 前期使用 wrk * 10， 后15epoch恢复\n",
    "    * 使用wsddn 模型预训练模型\n",
    "    * 尝试继续训练\n",
    "* b_loss = 0.3925406465735535\n",
    "* r_loss = 0.1087707682915589\n",
    "    \n",
    "Avg AP: [0.14108608 0.13945433 0.07550967 0.04488512 0.0155112  0.21452098\n",
    " 0.18949988 0.277173   0.01626784 0.12129407 0.04030327 0.17166375\n",
    " 0.0340261  0.14652872 0.11831426 0.0943084  0.02809882 0.0808251\n",
    " 0.22344707 0.10310592]\n",
    " \n",
    "Avg mAP: 0.11379117919071788\n",
    "\n",
    "Testset classify AP is [0.7446839481485761, 0.46312593526715523, 0.7229443084640751, 0.6720686580982431, 0.2711831636207078, 0.6316798087749204, 0.7808170323118933, 0.7192427670917786, 0.34050279268210454, 0.5513226437714495, 0.4250681860497294, 0.6522903973695652, 0.37552704290830424, 0.4955287776599825, 0.8895805759044773, 0.5292153332109615, 0.5930822630599464, 0.5015778652077435, 0.7728477087300736, 0.6390370031489183]\n",
    "\n",
    "Testset classify mAP is 0.5885663105740303\n",
    "\n",
    "\n",
    "* 28 epoch\n",
    "    * 0 ~ 12 -> 1e-3\n",
    "    * 12 ~ 28 ->1e-4\n",
    "    * 无 gn\n",
    "   \n",
    "Avg AP: [0.00250069 0.00268959 0.00593918 0.01238983 0.00037103 0.00520011\n",
    " 0.05094934 0.0025402  0.00145823 0.00060337 0.00230691 0.00568992\n",
    " 0.00343817 0.00329781 0.02234189 0.00066166 0.00028807 0.00268314\n",
    " 0.00682418 0.0011487 ]\n",
    " \n",
    "Avg mAP: 0.006666101292653241\n",
    "\n",
    "Testset classify AP is [0.031194349732388986, 0.0572540864953559, 0.04718262608471971, 0.027607681272222413, 0.05280227671969535, 0.05056773772898126, 0.2652140489262636, 0.04465063139115444, 0.08254710888368796, 0.020101784423735305, 0.04062878114999654, 0.07325480353317904, 0.05545111365999122, 0.0861678516354079, 0.5328506722903639, 0.05101622583523328, 0.014253184515077868, 0.03858852637022686, 0.05871458627724349, 0.04824319210879111]\n",
    "\n",
    "Testset classify mAP is 0.08391456345168583\n",
    "\n",
    "-----\n",
    "\n",
    "\n",
    "vgg16 联合训练 oicr + GroupNorm\n",
    "\n",
    "Avg AP: [0.09051399 0.18203187 0.08157918 0.03588963 0.00938754 0.19129429\n",
    " 0.1791767  0.26907684 0.00336021 0.10906965 0.08120123 0.18342123\n",
    " 0.06307971 0.15827458 0.03537233 0.0963341  0.02026587 0.13565538\n",
    " 0.23144397 0.01841274]\n",
    " \n",
    "Avg mAP: 0.10874205257675588\n",
    "\n",
    "Testset classify AP is [0.861379509457694, 0.5464344555413259, 0.8003924640583021, 0.7809129075735384, 0.17323967359198622, 0.6694490297538691, 0.8282779424696932, 0.8666258007735645, 0.3152865776140701, 0.5462951295709837, 0.3261202627186228, 0.7544566528512925, 0.37742541489619386, 0.4449411781005752, 0.8810713641118815, 0.5723464026070882, 0.6089818297132764, 0.6139789231030357, 0.8293171620131501, 0.7585100285661969]\n",
    "\n",
    "Testset classify mAP is 0.6277721354543171\n",
    "\n",
    "\n",
    "vgg16 结果\n",
    "\n",
    "Avg AP: [0.07594125 0.15202542 0.11302452 0.01443283 0.09229122 0.18310884\n",
    " 0.17307478 0.19584398 0.04892519 0.03835734 0.10568615 0.10578527\n",
    " 0.03219307 0.11462246 0.04233103 0.02550928 0.04346568 0.12203952\n",
    " 0.18385794 0.02253245]\n",
    " \n",
    "Avg mAP: 0.0942524098604717"
   ]
  },
  {
   "cell_type": "markdown",
   "metadata": {},
   "source": [
    "\n",
    "Avg AP: [0.0380435  0.09586847 0.02967028 0.01421967 0.02488741 0.12029387\n",
    " 0.12345616 0.14256291 0.00230058 0.09248682 0.09352449 0.11741401\n",
    " 0.10741478 0.08556007 0.0268022  0.09133743 0.01528107 0.05298027\n",
    " 0.13549627 0.03642921]\n",
    " \n",
    "Avg mAP: 0.07230147397022946"
   ]
  },
  {
   "cell_type": "markdown",
   "metadata": {},
   "source": [
    "Avg AP: [0.06553017 0.11218434 0.04370746 0.01982238 0.0250097  0.1920574\n",
    " 0.184809   0.21933456 0.00361981 0.09866133 0.1002228  0.16470673\n",
    " 0.13001323 0.14395161 0.04144958 0.09434894 0.02223967 0.06508374\n",
    " 0.20686167 0.04100427]\n",
    "\n",
    "Avg mAP: 0.09873091926663828"
   ]
  },
  {
   "cell_type": "code",
   "execution_count": 21,
   "metadata": {},
   "outputs": [
    {
     "data": {
      "text/plain": [
       "tensor([], size=(0, 4))"
      ]
     },
     "execution_count": 21,
     "metadata": {},
     "output_type": "execute_result"
    }
   ],
   "source": [
    "cls_region"
   ]
  },
  {
   "cell_type": "code",
   "execution_count": 22,
   "metadata": {},
   "outputs": [
    {
     "data": {
      "text/plain": [
       "tensor([])"
      ]
     },
     "execution_count": 22,
     "metadata": {},
     "output_type": "execute_result"
    }
   ],
   "source": [
    "cls_scores"
   ]
  },
  {
   "cell_type": "code",
   "execution_count": 23,
   "metadata": {},
   "outputs": [
    {
     "data": {
      "text/plain": [
       "True"
      ]
     },
     "execution_count": 23,
     "metadata": {},
     "output_type": "execute_result"
    }
   ],
   "source": [
    "cls_scores.numel() == 0"
   ]
  },
  {
   "cell_type": "code",
   "execution_count": null,
   "metadata": {},
   "outputs": [],
   "source": []
  }
 ],
 "metadata": {
  "kernelspec": {
   "display_name": "Python 3",
   "language": "python",
   "name": "python3"
  },
  "language_info": {
   "codemirror_mode": {
    "name": "ipython",
    "version": 3
   },
   "file_extension": ".py",
   "mimetype": "text/x-python",
   "name": "python",
   "nbconvert_exporter": "python",
   "pygments_lexer": "ipython3",
   "version": "3.7.4"
  }
 },
 "nbformat": 4,
 "nbformat_minor": 4
}
