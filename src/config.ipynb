{
 "cells": [
  {
   "cell_type": "code",
   "execution_count": 1,
   "metadata": {},
   "outputs": [],
   "source": [
    "import torch\n",
    "import numpy as np\n",
    "from easydict import EasyDict as edict"
   ]
  },
  {
   "cell_type": "code",
   "execution_count": 2,
   "metadata": {},
   "outputs": [],
   "source": [
    "cfg = edict()\n",
    "cfg.INIT = edict()\n",
    "cfg.DEVICE = torch.device(\"cuda:0\" if torch.cuda.is_available() else \"cpu\")\n",
    "\n",
    "cfg.SCALES = (480, 576, 688, 864, 1200)\n",
    "cfg.MAX_SIDE = 2000\n",
    "cfg.K = 3\n",
    "cfg.It = 0.5\n",
    "cfg.NMSIoU = 0.3\n",
    "cfg.INIT.MEAN = 0\n",
    "cfg.INIT.DEVI = 0.01\n",
    "cfg.INIT.BAIS = 0\n",
    "cfg.BATCH_SIZE = 2\n",
    "cfg.WD = 5e-4\n",
    "cfg.LR = 1e-3\n",
    "\n",
    "cfg.LR_07STEP = 12\n",
    "cfg.LR_07_MUL = 0.1\n",
    "cfg.EPOCH_07 = 28\n",
    "\n",
    "\n",
    "\n",
    "\n",
    "SAVE_PATH = \"../models/\"\n",
    "LOG_PATH = \"../logs/\"\n",
    "OUT_PATH = \"../outs/\""
   ]
  },
  {
   "cell_type": "code",
   "execution_count": 4,
   "metadata": {},
   "outputs": [],
   "source": [
    "def draw_box(img, boxes):\n",
    "    \"\"\"\n",
    "    img : PIL Image\n",
    "    boxes: np.darray shape (N, 4)\n",
    "    \"\"\"\n",
    "    p = np.asarray(img)\n",
    "    for box in boxes:\n",
    "        cv2.rectangle(p, (box[0], box[1]), (box[2], box[3]), (255, 255, 0))\n",
    "    plt.imshow(p)\n",
    "    \n",
    "def get_model_name(propose_way, year, model_name):\n",
    "    name = \"\"\n",
    "    if propose_way == \"selective_search\":\n",
    "        name += \"ssw_\"\n",
    "    else:\n",
    "        name += \"eb_\"\n",
    "    \n",
    "    name += str(year)+ \"_\" \n",
    "    name += model_name\n",
    "\n",
    "    return name\n",
    "\n",
    "def one2allbox_iou(target_box, others):\n",
    "    \"\"\"\n",
    "     calculate the iou of box A to list of boxes\n",
    "     target_box : Tensor()  1 * 4 \n",
    "     others : Tensor()      N * 4 \n",
    "     return  N * 1  ...iou\n",
    "    \n",
    "    \"\"\"\n",
    "\n",
    "    # get the min of xmax and ymax which organize the Intersection\n",
    "    max_xy = torch.min(target_box[:, 2:], others[:, 2:]) \n",
    "    min_xy = torch.max(target_box[:, :2], others[:, :2])\n",
    "    # get the xdistance and y distance\n",
    "    # add 1 because distance = point2 - point1 + 1\n",
    "    inter_wh = torch.clamp((max_xy - min_xy + 1), min=0)\n",
    "    I = inter_wh[:, 0] * inter_wh[:, 1]\n",
    "    A = (target_box[:, 2] - target_box[:, 0] + 1) * (target_box[:, 3] - target_box[:, 1] + 1)\n",
    "    B = (others[:, 2] - others[:, 0] + 1) * (others[:, 3] - others[:, 1] + 1)\n",
    "    return I / (A + B - I)\n",
    "\n",
    "\n",
    "def write_log(path, content):\n",
    "    with open(path, 'a') as f:\n",
    "        f.write(content + \"\\n\")"
   ]
  },
  {
   "cell_type": "code",
   "execution_count": null,
   "metadata": {},
   "outputs": [],
   "source": []
  }
 ],
 "metadata": {
  "kernelspec": {
   "display_name": "Python 3",
   "language": "python",
   "name": "python3"
  },
  "language_info": {
   "codemirror_mode": {
    "name": "ipython",
    "version": 3
   },
   "file_extension": ".py",
   "mimetype": "text/x-python",
   "name": "python",
   "nbconvert_exporter": "python",
   "pygments_lexer": "ipython3",
   "version": "3.7.4"
  }
 },
 "nbformat": 4,
 "nbformat_minor": 4
}
