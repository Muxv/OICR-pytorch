{
 "cells": [
  {
   "cell_type": "code",
   "execution_count": 1,
   "metadata": {},
   "outputs": [],
   "source": [
    "import torch\n",
    "import torch.nn as nn\n",
    "import torch.nn.functional as F\n",
    "import torch.utils.data as data\n",
    "import torchvision\n",
    "from torchvision.ops import roi_pool\n",
    "from wsddn import *\n",
    "from collections import OrderedDict \n",
    "from models import *"
   ]
  },
  {
   "cell_type": "code",
   "execution_count": 3,
   "metadata": {},
   "outputs": [],
   "source": [
    "def init_parameters(module):\n",
    "    if type(module) in [nn.Conv2d, nn.Linear]:\n",
    "        torch.nn.init.normal_(module.weight, mean=0.0, std=1e-2)\n",
    "        torch.nn.init.zeros_(module.bias)"
   ]
  },
  {
   "cell_type": "code",
   "execution_count": 4,
   "metadata": {},
   "outputs": [],
   "source": [
    "def copy_parameters(src, target):\n",
    "    assert src.weight.size() == target.weight.size()\n",
    "    assert src.bias.size() == target.bias.size()\n",
    "    src.weight = target.weight\n",
    "    src.bias = target.bias"
   ]
  },
  {
   "cell_type": "code",
   "execution_count": null,
   "metadata": {},
   "outputs": [],
   "source": [
    "class OICR(nn.Module):\n",
    "    def __init__(self, K=3):\n",
    "        self.K = K\n",
    "        for i in range(self.K):\n",
    "            self.add_module(\n",
    "                f'refine{i}',\n",
    "                nn.Sequential(OrderedDict([\n",
    "                    (f'ic_score{i}', nn.Linear(4096, 21)),\n",
    "                    (f'ic_probs{i}', nn.Softmax(dim=1))\n",
    "                ])))\n",
    "        \n",
    "    def forward(self, proposed_feature):\n",
    "        refine_scores = []\n",
    "        for i in range(self.K):\n",
    "            refine_scores.append(self._modules[f'refine{i}'](proposed_feature))\n",
    "            \n",
    "    def init_model(self):\n",
    "        K = self.K\n",
    "        for i in range(K):\n",
    "            self._modules[f'refine{i}'].apply(init_parameters)"
   ]
  },
  {
   "cell_type": "code",
   "execution_count": 4,
   "metadata": {},
   "outputs": [],
   "source": [
    "class MIDN_Alexnet(nn.Module):\n",
    "    def __init__(self):\n",
    "        super(MIDN_Alexnet, self).__init__()\n",
    "        alexnet = torchvision.models.alexnet(pretrained=True)\n",
    "        self.pretrained_features = nn.Sequential(*list(alexnet.features._modules.values())[:5])\n",
    "        self.new_features = nn.Sequential(OrderedDict([\n",
    "            ('conv3', nn.Conv2d(192, 384, kernel_size=3, stride=1, padding=2, dilation=2)),\n",
    "            ('relu3', nn.ReLU(inplace=True)),\n",
    "            ('conv4', nn.Conv2d(384, 256, kernel_size=3, stride=1, padding=2, dilation=2)),\n",
    "            ('relu4', nn.ReLU(inplace=True)),\n",
    "            ('conv5', nn.Conv2d(256, 256, kernel_size=3, stride=1, padding=2, dilation=2)),\n",
    "            ('relu5', nn.ReLU(inplace=True)),\n",
    "        ]))\n",
    "        \n",
    "        copy_parameters(self.new_features.conv3, alexnet.features[6])\n",
    "        copy_parameters(self.new_features.conv4, alexnet.features[8])\n",
    "        copy_parameters(self.new_features.conv5, alexnet.features[10])\n",
    "        \n",
    "        self.roi_size = (6, 6)\n",
    "        self.roi_spatial_scale= 0.125\n",
    "        \n",
    "        \n",
    "        self.fc67 = nn.Sequential(*list(alexnet.classifier._modules.values())[:-1])\n",
    "        self.fc8c = nn.Linear(4096, 20)\n",
    "        self.fc8d = nn.Linear(4096, 20)\n",
    "        self.c_softmax = nn.Softmax(dim=1)\n",
    "        self.d_softmax = nn.Softmax(dim=0)            \n",
    "        \n",
    "    \n",
    "    def forward(self, x, regions):\n",
    "        regions = [regions[0]] # roi_pool require [Tensor(K, 4)]\n",
    "        R = len(regions[0])\n",
    "        features = self.new_features(self.pretrained_features(x))\n",
    "        pool_features = roi_pool(features, regions, self.roi_size, self.roi_spatial_scale).view(R, -1)\n",
    "        fc7 = self.fc67(pool_features)\n",
    "        c_score = self.c_softmax(self.fc8c(fc7))\n",
    "        d_score = self.d_softmax(self.fc8d(fc7))\n",
    "        proposal_scores = c_score * d_score\n",
    "        return fc7, proposal_scores\n",
    "    \n",
    "    def init_model(self):\n",
    "        self.fc8c.apply(init_parameters)\n",
    "        self.fc8d.apply(init_parameters)\n"
   ]
  },
  {
   "cell_type": "code",
   "execution_count": 38,
   "metadata": {},
   "outputs": [],
   "source": [
    "class MIDN_VGG16(nn.Module):\n",
    "    def __init__(self, K=3):\n",
    "        super(OICR_VGG16, self).__init__()\n",
    "        vgg = torchvision.models.vgg16(pretrained=True)\n",
    "        self.pretrained_features = nn.Sequential(*list(vgg.features._modules.values())[:23])\n",
    "        self.new_features = nn.Sequential(OrderedDict([\n",
    "            ('conv5_1', nn.Conv2d(512, 512, kernel_size=3, stride=1, padding=2, dilation=2)),\n",
    "            ('relu5_1', nn.ReLU(inplace=True)),\n",
    "            ('conv5_2', nn.Conv2d(512, 512, kernel_size=3, stride=1, padding=2, dilation=2)),\n",
    "            ('relu5_2', nn.ReLU(inplace=True)),\n",
    "            ('conv5_3', nn.Conv2d(512, 512, kernel_size=3, stride=1, padding=2, dilation=2)),\n",
    "            ('relu5_3', nn.ReLU(inplace=True)),\n",
    "        ]))\n",
    "        self.roi_size = (7, 7)\n",
    "        self.roi_spatial_scale= 0.125\n",
    "        copy_parameters(self.new_features.conv5_1, vgg.features[24])\n",
    "        copy_parameters(self.new_features.conv5_2, vgg.features[26])\n",
    "        copy_parameters(self.new_features.conv5_3, vgg.features[28])\n",
    "        \n",
    "        \n",
    "        self.fc67 = nn.Sequential(*list(vgg.classifier._modules.values())[:-1])\n",
    "        self.fc8c = nn.Linear(4096, 20)\n",
    "        self.fc8d = nn.Linear(4096, 20)\n",
    "        self.c_softmax = nn.Softmax(dim=1)\n",
    "        self.d_softmax = nn.Softmax(dim=0)\n",
    "            \n",
    "    def forward(self, x, regions):\n",
    "        regions = [regions[0]] # roi_pool require [Tensor(K, 4)]\n",
    "        R = len(regions[0])\n",
    "        features = self.new_features(self.pretrained_features(x))\n",
    "        pool_features = roi_pool(features, regions, self.roi_size, self.roi_spatial_scale).view(R, -1)\n",
    "        fc7 = self.fc67(pool_features)\n",
    "        c_score = self.c_softmax(self.fc8c(fc7))\n",
    "        d_score = self.d_softmax(self.fc8d(fc7))\n",
    "        proposal_scores = c_score * d_score\n",
    "\n",
    "        return fc7, proposal_scores\n",
    "\n",
    "    def init_model(self):\n",
    "        self.fc8c.apply(init_parameters)\n",
    "        self.fc8d.apply(init_parameters)"
   ]
  },
  {
   "cell_type": "code",
   "execution_count": 5,
   "metadata": {},
   "outputs": [],
   "source": [
    "class Combined_Alexnet(nn.Module):\n",
    "    def __init__(self, K=3, groups=4):\n",
    "        super(Combined_Alexnet, self).__init__()\n",
    "        self.K = K\n",
    "        self.groups = groups\n",
    "#         alexnet = torchvision.models.alexnet(pretrained=True)\n",
    "        wsddn_alexnet = WSDDN_Alexnet()\n",
    "        wsddn_alexnet.load_state_dict(torch.load(\"../pretrained/eb_2007_wsddn_alexnet.pt\"))\n",
    "        self.pretrained_features = nn.Sequential(*list(wsddn_alexnet.features[:5]._modules.values()))\n",
    "        self.new_features = nn.Sequential(OrderedDict([\n",
    "            ('conv3', nn.Conv2d(192, 384, kernel_size=3, stride=1, padding=2, dilation=2)),\n",
    "            ('relu3', nn.ReLU(inplace=True)),\n",
    "            ('conv4', nn.Conv2d(384, 256, kernel_size=3, stride=1, padding=2, dilation=2)),\n",
    "            ('relu4', nn.ReLU(inplace=True)),\n",
    "            ('conv5', nn.Conv2d(256, 256, kernel_size=3, stride=1, padding=2, dilation=2)),\n",
    "            ('relu5', nn.ReLU(inplace=True)),\n",
    "        ]))\n",
    "        \n",
    "        copy_parameters(self.new_features.conv3, wsddn_alexnet.features[6])\n",
    "        copy_parameters(self.new_features.conv4, wsddn_alexnet.features[8])\n",
    "        copy_parameters(self.new_features.conv5, wsddn_alexnet.features[10])\n",
    "        \n",
    "        self.roi_size = (6, 6)\n",
    "        self.roi_spatial_scale= 0.125\n",
    "        \n",
    "        \n",
    "        self.fc67 = nn.Sequential(*list(wsddn_alexnet.fc67._modules.values()))\n",
    "        self.fc8c = wsddn_alexnet.fc8c\n",
    "        self.fc8d = wsddn_alexnet.fc8d\n",
    "        self.c_softmax = nn.Softmax(dim=1)\n",
    "        self.d_softmax = nn.Softmax(dim=0)\n",
    "        for i in range(self.K):\n",
    "            self.add_module(\n",
    "                f'refine{i}',\n",
    "                nn.Sequential(OrderedDict([\n",
    "#                     (f'groupNorm', nn.GroupNorm(self.groups, 4096)),\n",
    "                    (f'ic_score{i}', nn.Linear(4096, 21)),\n",
    "                    (f'ic_probs{i}', nn.Softmax(dim=1))\n",
    "                ])))\n",
    "            \n",
    "    def forward(self, x, regions):\n",
    "        regions = [regions[0]] # roi_pool require [Tensor(K, 4)]\n",
    "        R = len(regions[0])\n",
    "        features = self.new_features(self.pretrained_features(x))\n",
    "        pool_features = roi_pool(features, regions, self.roi_size, self.roi_spatial_scale).view(R, -1)\n",
    "        fc7 = self.fc67(pool_features)\n",
    "        c_score = self.c_softmax(self.fc8c(fc7))\n",
    "        d_score = self.d_softmax(self.fc8d(fc7))\n",
    "        proposal_scores = c_score * d_score\n",
    "\n",
    "        refine_scores = []\n",
    "        for i in range(self.K):\n",
    "            refine_scores.append(self._modules[f'refine{i}'](fc7))\n",
    "        return refine_scores, proposal_scores"
   ]
  },
  {
   "cell_type": "code",
   "execution_count": 5,
   "metadata": {},
   "outputs": [
    {
     "data": {
      "text/plain": [
       "<All keys matched successfully>"
      ]
     },
     "execution_count": 5,
     "metadata": {},
     "output_type": "execute_result"
    }
   ],
   "source": [
    "wsddn_alexnet = WSDDN_Alexnet()\n",
    "wsddn_alexnet.load_state_dict(torch.load(\"../pretrained/eb_2007_wsddn_alexnet.pt\"))"
   ]
  },
  {
   "cell_type": "code",
   "execution_count": 8,
   "metadata": {},
   "outputs": [
    {
     "data": {
      "text/plain": [
       "Sequential(\n",
       "  (0): Conv2d(3, 64, kernel_size=(11, 11), stride=(4, 4), padding=(2, 2))\n",
       "  (1): ReLU(inplace=True)\n",
       "  (2): MaxPool2d(kernel_size=3, stride=2, padding=0, dilation=1, ceil_mode=False)\n",
       "  (3): Conv2d(64, 192, kernel_size=(5, 5), stride=(1, 1), padding=(2, 2))\n",
       "  (4): ReLU(inplace=True)\n",
       ")"
      ]
     },
     "execution_count": 8,
     "metadata": {},
     "output_type": "execute_result"
    }
   ],
   "source": [
    "wsddn_alexnet.features[:5]"
   ]
  },
  {
   "cell_type": "code",
   "execution_count": 10,
   "metadata": {},
   "outputs": [],
   "source": [
    "a = torchvision.models.alexnet()"
   ]
  },
  {
   "cell_type": "code",
   "execution_count": 13,
   "metadata": {},
   "outputs": [
    {
     "data": {
      "text/plain": [
       "Sequential(\n",
       "  (0): Conv2d(3, 64, kernel_size=(11, 11), stride=(4, 4), padding=(2, 2))\n",
       "  (1): ReLU(inplace=True)\n",
       "  (2): MaxPool2d(kernel_size=3, stride=2, padding=0, dilation=1, ceil_mode=False)\n",
       "  (3): Conv2d(64, 192, kernel_size=(5, 5), stride=(1, 1), padding=(2, 2))\n",
       "  (4): ReLU(inplace=True)\n",
       ")"
      ]
     },
     "execution_count": 13,
     "metadata": {},
     "output_type": "execute_result"
    }
   ],
   "source": [
    "a.features[:5]"
   ]
  },
  {
   "cell_type": "code",
   "execution_count": 18,
   "metadata": {},
   "outputs": [
    {
     "data": {
      "text/plain": [
       "WSDDN_Alexnet(\n",
       "  (features): Sequential(\n",
       "    (0): Conv2d(3, 64, kernel_size=(11, 11), stride=(4, 4), padding=(2, 2))\n",
       "    (1): ReLU(inplace=True)\n",
       "    (2): MaxPool2d(kernel_size=3, stride=2, padding=0, dilation=1, ceil_mode=False)\n",
       "    (3): Conv2d(64, 192, kernel_size=(5, 5), stride=(1, 1), padding=(2, 2))\n",
       "    (4): ReLU(inplace=True)\n",
       "    (5): MaxPool2d(kernel_size=3, stride=2, padding=0, dilation=1, ceil_mode=False)\n",
       "    (6): Conv2d(192, 384, kernel_size=(3, 3), stride=(1, 1), padding=(1, 1))\n",
       "    (7): ReLU(inplace=True)\n",
       "    (8): Conv2d(384, 256, kernel_size=(3, 3), stride=(1, 1), padding=(1, 1))\n",
       "    (9): ReLU(inplace=True)\n",
       "    (10): Conv2d(256, 256, kernel_size=(3, 3), stride=(1, 1), padding=(1, 1))\n",
       "    (11): ReLU(inplace=True)\n",
       "  )\n",
       "  (fc67): Sequential(\n",
       "    (0): Dropout(p=0.5, inplace=False)\n",
       "    (1): Linear(in_features=9216, out_features=4096, bias=True)\n",
       "    (2): ReLU(inplace=True)\n",
       "    (3): Dropout(p=0.5, inplace=False)\n",
       "    (4): Linear(in_features=4096, out_features=4096, bias=True)\n",
       "    (5): ReLU(inplace=True)\n",
       "  )\n",
       "  (fc8c): Linear(in_features=4096, out_features=20, bias=True)\n",
       "  (fc8d): Linear(in_features=4096, out_features=20, bias=True)\n",
       "  (cls_softmax): Softmax(dim=1)\n",
       "  (det_softmax): Softmax(dim=0)\n",
       ")"
      ]
     },
     "execution_count": 18,
     "metadata": {},
     "output_type": "execute_result"
    }
   ],
   "source": [
    "wsddn_alexnet"
   ]
  },
  {
   "cell_type": "code",
   "execution_count": 23,
   "metadata": {},
   "outputs": [
    {
     "data": {
      "text/plain": [
       "Sequential(\n",
       "  (0): Dropout(p=0.5, inplace=False)\n",
       "  (1): Linear(in_features=9216, out_features=4096, bias=True)\n",
       "  (2): ReLU(inplace=True)\n",
       "  (3): Dropout(p=0.5, inplace=False)\n",
       "  (4): Linear(in_features=4096, out_features=4096, bias=True)\n",
       "  (5): ReLU(inplace=True)\n",
       ")"
      ]
     },
     "execution_count": 23,
     "metadata": {},
     "output_type": "execute_result"
    }
   ],
   "source": [
    "nn.Sequential(*list(wsddn_alexnet.fc67._modules.values()))"
   ]
  },
  {
   "cell_type": "code",
   "execution_count": 25,
   "metadata": {},
   "outputs": [
    {
     "data": {
      "text/plain": [
       "Sequential(\n",
       "  (0): Dropout(p=0.5, inplace=False)\n",
       "  (1): Linear(in_features=9216, out_features=4096, bias=True)\n",
       "  (2): ReLU(inplace=True)\n",
       "  (3): Dropout(p=0.5, inplace=False)\n",
       "  (4): Linear(in_features=4096, out_features=4096, bias=True)\n",
       "  (5): ReLU(inplace=True)\n",
       "  (6): Linear(in_features=4096, out_features=1000, bias=True)\n",
       ")"
      ]
     },
     "execution_count": 25,
     "metadata": {},
     "output_type": "execute_result"
    }
   ],
   "source": [
    "nn.Sequential(*list(a.classifier._modules.values())[:])"
   ]
  },
  {
   "cell_type": "code",
   "execution_count": 41,
   "metadata": {},
   "outputs": [],
   "source": [
    "a = wsddn_alexnet.fc8c"
   ]
  },
  {
   "cell_type": "code",
   "execution_count": 39,
   "metadata": {},
   "outputs": [
    {
     "data": {
      "text/plain": [
       "odict_values([])"
      ]
     },
     "execution_count": 39,
     "metadata": {},
     "output_type": "execute_result"
    }
   ],
   "source": [
    "a"
   ]
  },
  {
   "cell_type": "code",
   "execution_count": null,
   "metadata": {},
   "outputs": [],
   "source": []
  }
 ],
 "metadata": {
  "kernelspec": {
   "display_name": "Python 3",
   "language": "python",
   "name": "python3"
  },
  "language_info": {
   "codemirror_mode": {
    "name": "ipython",
    "version": 3
   },
   "file_extension": ".py",
   "mimetype": "text/x-python",
   "name": "python",
   "nbconvert_exporter": "python",
   "pygments_lexer": "ipython3",
   "version": "3.7.4"
  }
 },
 "nbformat": 4,
 "nbformat_minor": 4
}
